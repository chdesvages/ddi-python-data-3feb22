{
 "cells": [
  {
   "cell_type": "markdown",
   "id": "51a1d330",
   "metadata": {
    "slideshow": {
     "slide_type": "slide"
    }
   },
   "source": [
    "# Python for data manipulation - DDI session - 3 Feb 2022\n",
    "\n",
    "Charlotte Desvages"
   ]
  },
  {
   "cell_type": "markdown",
   "id": "6802f0f4",
   "metadata": {
    "slideshow": {
     "slide_type": "slide"
    }
   },
   "source": [
    "## Welcome!\n",
    "\n",
    "Today I'll present an overview of some of the most widely used Python libraries for data manipulation and visualisation."
   ]
  },
  {
   "cell_type": "markdown",
   "id": "13bee986",
   "metadata": {
    "slideshow": {
     "slide_type": "notes"
    }
   },
   "source": [
    "These are huge libraries with a lot of functionality -- the goal for today won't be to teach you everything about them!\n",
    "\n",
    "Instead, we'll work through some examples, to illustrate and give you a flavour of the kind of problems that each of them can help with."
   ]
  },
  {
   "cell_type": "markdown",
   "id": "58303486",
   "metadata": {
    "slideshow": {
     "slide_type": "fragment"
    }
   },
   "source": [
    "We will work through **interactive code examples** to demonstrate some of the functionalities of each library.\n",
    "\n",
    "You will be able to play with the code yourselves, using a cloud service called Binder -- no need to install anything!"
   ]
  },
  {
   "cell_type": "markdown",
   "id": "f89be13a",
   "metadata": {
    "slideshow": {
     "slide_type": "subslide"
    }
   },
   "source": [
    "## Teams communication\n",
    "\n",
    "At the top of Teams, use the [**Reactions** menu](https://support.microsoft.com/en-us/office/express-yourself-in-teams-meetings-with-live-reactions-a8323a40-3d07-4129-934b-305370a36e21#ID0EFD=Desktop).\n",
    "\n",
    "You can also use the **chat** to ask questions."
   ]
  },
  {
   "cell_type": "markdown",
   "id": "c6780ddc",
   "metadata": {
    "slideshow": {
     "slide_type": "subslide"
    }
   },
   "source": [
    "### How do I code along?\n",
    "\n",
    "## [bit.ly/ddi-python-3feb22](https://bit.ly/ddi-python-3feb22)\n",
    "\n",
    "Then, click on the \"**launch binder**\" button. You should then see the content of these slides. This is a **Jupyter notebook** -- a Python programming environment that runs in your browser. Wait until it loads completely (~1min), then:\n",
    "- scroll down until you see the flags 🚩🚩🚩. Then, click on the **Python code cell** just below. You should see a green frame appearing around it.\n",
    "- Click the <kbd>▶</kbd> button in the toolbar at the top (or press <kbd>Ctrl</kbd> + <kbd>Enter</kbd> on your keyboard). This will **run** the code inside the cell, and you will see the result below.\n",
    "\n",
    "# 🚩🚩🚩 Example 1"
   ]
  },
  {
   "cell_type": "code",
   "execution_count": 2,
   "id": "c5aadf55",
   "metadata": {},
   "outputs": [
    {
     "name": "stdout",
     "output_type": "stream",
     "text": [
      "NumPy (version 1.21.3) imported successfully!\n"
     ]
    }
   ],
   "source": [
    "import numpy as np\n",
    "print(f'NumPy (version {np.__version__}) imported successfully!')"
   ]
  },
  {
   "cell_type": "code",
   "execution_count": 3,
   "id": "951b412d",
   "metadata": {
    "slideshow": {
     "slide_type": "subslide"
    }
   },
   "outputs": [
    {
     "name": "stdout",
     "output_type": "stream",
     "text": [
      "NumPy (version 1.21.3) imported successfully!\n"
     ]
    }
   ],
   "source": [
    "import numpy as np\n",
    "print(f'NumPy (version {np.__version__}) imported successfully!')"
   ]
  },
  {
   "cell_type": "markdown",
   "id": "b062e3d3",
   "metadata": {},
   "source": [
    "When you've run the code, `NumPy (version 1.22.1) imported successfully!` should appear **below** the code cell. If that's the case, come back on Teams and give a *thumbs up*. **Don't close your browser tab or you'll lose your progress!**\n",
    "\n",
    "You can follow the presentation on the Teams meeting. When there are code examples you can run and change yourself, they will be flagged with 🚩🚩🚩 if you want to jump back into your notebook."
   ]
  },
  {
   "cell_type": "markdown",
   "id": "f2d184de",
   "metadata": {
    "slideshow": {
     "slide_type": "subslide"
    }
   },
   "source": [
    "## Prerequisites\n",
    "\n",
    "Some familiarity with Python will be assumed, but the session should also be accessible to those familiar with programming fundamentals more generally -- even in another language.\n",
    "\n",
    "If at any point I'm going too fast, or you'd like me to explain a particular point or command in more detail, **please do say so in the chat!**"
   ]
  },
  {
   "cell_type": "markdown",
   "id": "98022e58",
   "metadata": {
    "slideshow": {
     "slide_type": "slide"
    }
   },
   "source": [
    "## Our toolbox\n",
    "\n",
    "Today we'll use **5 Python libraries**:\n",
    "\n",
    "- **NumPy** and **SciPy**, for general scientific computing using NumPy *arrays*,\n",
    "- **matplotlib**, to create highly customisable plots,\n",
    "- **pandas**, to work with datasets and manipulate data stored in *dataframes*,\n",
    "- **seaborn**, to generate plots and data visualisations easily from pandas dataframes."
   ]
  },
  {
   "cell_type": "markdown",
   "id": "443b8636",
   "metadata": {
    "slideshow": {
     "slide_type": "slide"
    }
   },
   "source": [
    "# NumPy (*Numerical Python*)\n",
    "\n",
    "**NumPy** is an *essential* library for scientific computing. (In fact, SciPy, pandas, and many other libraries are built on top of it!)\n",
    "\n",
    "#### Useful links\n",
    "\n",
    "- [What is NumPy?](https://numpy.org/doc/stable/user/whatisnumpy.html#whatisnumpy)\n",
    "- [NumPy: the absolute basics for beginners](https://numpy.org/doc/stable/user/absolute_beginners.html)"
   ]
  },
  {
   "cell_type": "code",
   "execution_count": 4,
   "id": "1aad97fe",
   "metadata": {},
   "outputs": [],
   "source": [
    "import numpy as np"
   ]
  },
  {
   "cell_type": "markdown",
   "id": "c9d57fdf",
   "metadata": {
    "slideshow": {
     "slide_type": "subslide"
    }
   },
   "source": [
    "## NumPy features\n",
    "\n",
    "NumPy is built around the **`ndarray` type** (stands for \"N-dimensional array\"). NumPy arrays are *containers*, like lists, which allow us to store and handle vectors and matrices efficiently."
   ]
  },
  {
   "cell_type": "code",
   "execution_count": 7,
   "id": "ae8a0dbf",
   "metadata": {
    "slideshow": {
     "slide_type": "-"
    }
   },
   "outputs": [
    {
     "name": "stdout",
     "output_type": "stream",
     "text": [
      "<class 'numpy.ndarray'>\n",
      "[[1 2 3]\n",
      " [4 5 6]]\n"
     ]
    }
   ],
   "source": [
    "# Create a vector (1D array, list of numbers)\n",
    "v = np.array([2, 4, 0, -1.4])\n",
    "print(type(v))\n",
    "\n",
    "# Create a matrix\n",
    "A = np.array([[1, 2, 3], [4, 5, 6]])\n",
    "print(A)"
   ]
  },
  {
   "cell_type": "markdown",
   "id": "12161af2",
   "metadata": {
    "slideshow": {
     "slide_type": "notes"
    }
   },
   "source": [
    "```py\n",
    "# Create a vector\n",
    "v = np.array([3, 4, -2.8, 0])\n",
    "print(v)\n",
    "print(type(v))\n",
    "\n",
    "# Create a matrix: pass a list of lists to np.array(),\n",
    "# each element of which is a row of the matrix\n",
    "id_4 = np.array([[1, 0, 0, 0],\n",
    "                 [0, 1, 0, 0],\n",
    "                 [0, 0, 1, 0],\n",
    "                 [0, 0, 0, 1]])\n",
    "print(id_4)\n",
    "```"
   ]
  },
  {
   "cell_type": "markdown",
   "id": "2d4fcc23",
   "metadata": {
    "slideshow": {
     "slide_type": "subslide"
    }
   },
   "source": [
    "NumPy also provides convenience functions to construct arrays with particular properties."
   ]
  },
  {
   "cell_type": "code",
   "execution_count": 24,
   "id": "590a8ac6",
   "metadata": {},
   "outputs": [
    {
     "name": "stdout",
     "output_type": "stream",
     "text": [
      "[[1. 1.]\n",
      " [1. 1.]\n",
      " [1. 1.]\n",
      " [1. 1.]\n",
      " [1. 1.]]\n",
      "[[ 7  7  9 10]\n",
      " [ 1  2  7  5]\n",
      " [ 6  5  7  7]\n",
      " [10  7  5  4]]\n",
      "[ 1  4  7 10 13 16 19]\n",
      "[ 1.   4.8  8.6 12.4 16.2 20. ]\n"
     ]
    }
   ],
   "source": [
    "# Create an array full of zeros/ones\n",
    "z = np.zeros([3, 4])\n",
    "ones = np.ones([5, 2])\n",
    "print(ones)\n",
    "\n",
    "# Random numbers\n",
    "rand = 10 * np.random.random([4, 4])\n",
    "rand_ints = np.random.randint(1, 11, size=[4, 4])\n",
    "print(rand_ints)\n",
    "\n",
    "# Equally spaced values\n",
    "x = np.arange(1, 20, 3)\n",
    "print(x)\n",
    "\n",
    "y = np.linspace(1, 20, 6)\n",
    "print(y)"
   ]
  },
  {
   "cell_type": "markdown",
   "id": "5a4d6a09",
   "metadata": {
    "slideshow": {
     "slide_type": "notes"
    }
   },
   "source": [
    "```py\n",
    "np.zeros()\n",
    "np.ones()\n",
    "np.eye()\n",
    "np.random.random()\n",
    "np.arange()\n",
    "```"
   ]
  },
  {
   "cell_type": "markdown",
   "id": "32cafae2",
   "metadata": {
    "slideshow": {
     "slide_type": "subslide"
    }
   },
   "source": [
    "## Array operations\n",
    "\n",
    "Using NumPy arrays allows to perform operations on (and between) many numbers at once, *efficiently*."
   ]
  },
  {
   "cell_type": "code",
   "execution_count": 50,
   "id": "36595eec",
   "metadata": {},
   "outputs": [
    {
     "name": "stdout",
     "output_type": "stream",
     "text": [
      "[10  6  4  1  9]\n",
      "[ True  True False False  True]\n",
      "[10  6  9]\n"
     ]
    }
   ],
   "source": [
    "# Generate an array of random integers between 1 and 10\n",
    "y = np.random.randint(1, 11, size=5)\n",
    "print(y)\n",
    "\n",
    "# x = np.linspace(1, 5, 5, dtype=int)\n",
    "# print(x)\n",
    "\n",
    "# print(x / y)\n",
    "# print(x ** 2)\n",
    "\n",
    "print(y > 5)\n",
    "print(y[y>5])"
   ]
  },
  {
   "cell_type": "markdown",
   "id": "54036d88",
   "metadata": {
    "slideshow": {
     "slide_type": "notes"
    }
   },
   "source": [
    "```py\n",
    "x = np.linspace(1, 5, 5, dtype=int)\n",
    "print(y)\n",
    "print(x)\n",
    "\n",
    "print(x + y)\n",
    "print(x * y)\n",
    "print(x**2)\n",
    "\n",
    "print(y > 5)\n",
    "print(y[y > 5])\n",
    "```\n",
    "\n",
    "Note that matrix multiplication is also possible!\n",
    "\n",
    "We'll come back to NumPy throughout the session."
   ]
  },
  {
   "cell_type": "markdown",
   "id": "2b3ab5a0",
   "metadata": {
    "slideshow": {
     "slide_type": "slide"
    }
   },
   "source": [
    "# Plotting data with matplotlib\n",
    "\n",
    "The **matplotlib** library (and its **pyplot** interface) contain a very large number of built-in functions for creating figures and plots.\n",
    "\n",
    "### Useful links\n",
    "\n",
    "* [Matplotlib: Python plotting](https://matplotlib.org/contents.html) - Matplotlib documentation\n",
    "* [Matplotlib gallery](https://matplotlib.org/gallery/index.html)\n",
    "* [Pyplot tutorial](https://matplotlib.org/tutorials/introductory/pyplot.html) - Matplotlib documentation"
   ]
  },
  {
   "cell_type": "code",
   "execution_count": 51,
   "id": "dc0e488f",
   "metadata": {},
   "outputs": [],
   "source": [
    "import matplotlib.pyplot as plt"
   ]
  },
  {
   "cell_type": "markdown",
   "id": "1c861316",
   "metadata": {
    "slideshow": {
     "slide_type": "subslide"
    }
   },
   "source": [
    "# 🚩🚩🚩 Example 2"
   ]
  },
  {
   "cell_type": "code",
   "execution_count": 60,
   "id": "3e21238f",
   "metadata": {},
   "outputs": [
    {
     "data": {
      "image/png": "[encoded data removed]",
      "text/plain": [
       "<Figure size 432x288 with 1 Axes>"
      ]
     },
     "metadata": {
      "needs_background": "light"
     },
     "output_type": "display_data"
    }
   ],
   "source": [
    "# Create an x-axis with 100 points\n",
    "x = np.linspace(-4*np.pi, 4*np.pi, 200)\n",
    "\n",
    "# Evaluate the function at all these points\n",
    "y = x * np.sin(x)\n",
    "\n",
    "# Create the plot and display it\n",
    "plt.plot(x, y, 'bx')\n",
    "plt.show()"
   ]
  },
  {
   "cell_type": "markdown",
   "id": "56b697f0",
   "metadata": {
    "slideshow": {
     "slide_type": "subslide"
    }
   },
   "source": [
    "## Multiple plots"
   ]
  },
  {
   "cell_type": "code",
   "execution_count": 67,
   "id": "9f094ed9",
   "metadata": {},
   "outputs": [
    {
     "data": {
      "image/png": "[encoded data removed]",
      "text/plain": [
       "<Figure size 432x288 with 6 Axes>"
      ]
     },
     "metadata": {
      "needs_background": "light"
     },
     "output_type": "display_data"
    }
   ],
   "source": [
    "# Create a grid of plots with 1 row, 3 columns\n",
    "fig, ax = plt.subplots(2, 3)\n",
    "\n",
    "# Create an x-axis of 50 points between 0 and 2\n",
    "x = np.linspace(0, 2, 50)\n",
    "\n",
    "# Plot 3 different functions\n",
    "ax[0, 0].plot(x, np.tan(x-2), 'c-')\n",
    "ax[0, 1].plot(x, np.exp(x), 'm--')\n",
    "ax[1, 2].plot(x, np.sin(2*x), 'g-.')\n",
    "plt.show()"
   ]
  },
  {
   "cell_type": "markdown",
   "id": "27a893c0",
   "metadata": {
    "slideshow": {
     "slide_type": "notes"
    }
   },
   "source": [
    "```py\n",
    "# Create a grid of plots with 1 row, 3 columns\n",
    "fig, ax = plt.subplots(1, 3, figsize=(12, 4))\n",
    "\n",
    "# Create an x-axis of 50 points between 0 and 2\n",
    "x = np.linspace(0, 2, 50)\n",
    "\n",
    "# Plot 3 different functions\n",
    "ax[0].plot(x, np.tan(x - 2), 'c-')\n",
    "ax[1].plot(x, np.exp(x), 'g--')\n",
    "ax[2].plot(x, np.sin(x) * np.cos(2*x), 'ro')\n",
    "plt.show()\n",
    "```\n",
    "\n",
    "See [Parts of a figure](https://matplotlib.org/stable/tutorials/introductory/usage.html#parts-of-a-figure) - Matplotlib documentation\n",
    "\n",
    "Try a 2D grid!"
   ]
  },
  {
   "cell_type": "markdown",
   "id": "58f0bd05",
   "metadata": {
    "slideshow": {
     "slide_type": "slide"
    }
   },
   "source": [
    "# SciPy\n",
    "\n",
    "The **SciPy** library provides a set of scientific computing tools for Python -- [it is actually a relative of Numpy](https://www.scipy.org/scipylib/faq.html#numpy-vs-scipy-vs-other-packages).\n",
    "\n",
    "It's not possible to cover *everything* SciPy can do today, so we'll look at some examples.\n",
    "\n",
    "### Useful links\n",
    "\n",
    "* [SciPy documentation](https://docs.scipy.org/doc/scipy/reference/)\n",
    "* [SciPy tutorial - Introduction](https://docs.scipy.org/doc/scipy/reference/tutorial/general.html)\n",
    "* [Frequently asked questions - SciPy documentation](https://www.scipy.org/scipylib/faq.html#frequently-asked-questions)"
   ]
  },
  {
   "cell_type": "markdown",
   "id": "5c891098",
   "metadata": {
    "slideshow": {
     "slide_type": "subslide"
    }
   },
   "source": [
    "# 🚩🚩🚩 Example 3: interpolating some noisy data"
   ]
  },
  {
   "cell_type": "code",
   "execution_count": 68,
   "id": "b2b4bf1c",
   "metadata": {},
   "outputs": [],
   "source": [
    "from scipy.interpolate import interp1d, UnivariateSpline"
   ]
  },
  {
   "cell_type": "markdown",
   "id": "f5b0bcaa",
   "metadata": {
    "slideshow": {
     "slide_type": "fragment"
    }
   },
   "source": [
    "Let's generate some simulated data for this example."
   ]
  },
  {
   "cell_type": "code",
   "execution_count": 72,
   "id": "d0b15204",
   "metadata": {},
   "outputs": [
    {
     "data": {
      "image/png": "[encoded data removed]",
      "text/plain": [
       "<Figure size 432x288 with 1 Axes>"
      ]
     },
     "metadata": {
      "needs_background": "light"
     },
     "output_type": "display_data"
    }
   ],
   "source": [
    "# Generate simulated data: a sinusoid with some added noise\n",
    "x = np.linspace(0, 10, 30)\n",
    "noise = np.random.normal(0, 0.3, len(x))\n",
    "y = np.sin(x) + noise\n",
    "\n",
    "%matplotlib inline\n",
    "# Plot the data points\n",
    "fig, ax = plt.subplots()\n",
    "ax.plot(x, y, 'k.', label='Data points')\n",
    "ax.plot(x, np.sin(x), 'k-', label='Underlying signal')\n",
    "ax.legend()\n",
    "plt.show()"
   ]
  },
  {
   "cell_type": "code",
   "execution_count": null,
   "id": "8bcb4098",
   "metadata": {
    "slideshow": {
     "slide_type": "notes"
    }
   },
   "outputs": [],
   "source": [
    "%matplotlib notebook\n",
    "fig, ax = plt.subplots()\n",
    "ax.plot(x, y, 'k.', label='Noisy data')\n",
    "\n",
    "ax.legend()\n",
    "plt.show()"
   ]
  },
  {
   "cell_type": "code",
   "execution_count": 81,
   "id": "c52e5ea9",
   "metadata": {
    "slideshow": {
     "slide_type": "subslide"
    }
   },
   "outputs": [
    {
     "name": "stdout",
     "output_type": "stream",
     "text": [
      "1.106175694620554\n",
      "1.019704536420527\n"
     ]
    }
   ],
   "source": [
    "# Create an interpolating function going through all the datapoints\n",
    "f_interp = interp1d(x, y, kind='cubic')\n",
    "\n",
    "# Fit a spline using a different function, which takes a smoothing parameter\n",
    "f_smooth = UnivariateSpline(x, y, s=4)\n",
    "\n",
    "# We can use these functions to get interpolated values for y\n",
    "# at a point in between our x values\n",
    "print(f_interp(1.5))\n",
    "print(f_smooth(1.5))"
   ]
  },
  {
   "cell_type": "code",
   "execution_count": 85,
   "id": "3b4c0c88",
   "metadata": {
    "slideshow": {
     "slide_type": "subslide"
    }
   },
   "outputs": [
    {
     "data": {
      "image/png": "[encoded data removed]",
      "text/plain": [
       "<Figure size 864x360 with 2 Axes>"
      ]
     },
     "metadata": {
      "needs_background": "light"
     },
     "output_type": "display_data"
    }
   ],
   "source": [
    "# Plot these splines on top of the data points\n",
    "fig, ax = plt.subplots(2, 1, figsize=(12, 5))\n",
    "ax[0].plot(x, y, 'k.', label='Data points')\n",
    "\n",
    "x_dense = np.linspace(0, 10, 200)\n",
    "ax[0].plot(x_dense, np.sin(x_dense), 'k-', label='Underlying signal')\n",
    "\n",
    "ax[0].plot(x_dense, f_interp(x_dense), 'r--', label='Interpolating cubic')\n",
    "ax[0].plot(x_dense, f_smooth(x_dense), 'g-.', label='Smooth spline')\n",
    "\n",
    "ax[0].legend()\n",
    "\n",
    "# ax[1].plot(x, y - f_smooth(x), 'g.')\n",
    "ax[1].hist(y - f_smooth(x))\n",
    "plt.show()"
   ]
  },
  {
   "cell_type": "markdown",
   "id": "9ee5274c",
   "metadata": {
    "slideshow": {
     "slide_type": "notes"
    }
   },
   "source": [
    "```py\n",
    "# First, we need a denser x-axis, so the plots look smoother!\n",
    "x_dense = np.linspace(0, 10, 1000)\n",
    "\n",
    "# Use the previous functions, evaluate them at each point in x_dense\n",
    "ax.plot(x_dense, f_interp(x_dense), 'c--', label='Interpolating spline')\n",
    "ax.plot(x_dense, f_smooth(x_dense), 'r-.', label='Smooth spline')\n",
    "\n",
    "ax.legend()\n",
    "plt.show()\n",
    "```\n",
    "\n",
    "- Change noise variance and observe the results.\n",
    "- Change the smoothing parameter `s` and observe the results."
   ]
  },
  {
   "cell_type": "markdown",
   "id": "c0bb0acf",
   "metadata": {
    "slideshow": {
     "slide_type": "subslide"
    }
   },
   "source": [
    "# 🚩🚩🚩 Example 4: Summary statistics\n",
    "\n",
    "Let's continue with NumPy, SciPy, and matplotlib for now.\n",
    "\n",
    "The file `oil_reserve_data.csv` in your binder is a slightly edited version of one that comes from [this EU data source](http://data.europa.eu/euodp/en/data/dataset/RH8xH4aVauYKO92JJxv8sA). It describes the emergency oil reserves kept by several European countries over recent years."
   ]
  },
  {
   "cell_type": "code",
   "execution_count": 86,
   "id": "12fe3e11",
   "metadata": {},
   "outputs": [],
   "source": [
    "import numpy as np\n",
    "from scipy import stats"
   ]
  },
  {
   "cell_type": "code",
   "execution_count": 89,
   "id": "153c3f85",
   "metadata": {
    "slideshow": {
     "slide_type": "subslide"
    }
   },
   "outputs": [],
   "source": [
    "# # Use Numpy's loadtxt function to open the data file:\n",
    "A = np.loadtxt('oil_reserve_data.csv',\n",
    "                  dtype=float,\n",
    "                  delimiter=',',\n",
    "                  skiprows=1,\n",
    "                  usecols=(1, 2, 3, 4))\n",
    "# print(A)"
   ]
  },
  {
   "cell_type": "code",
   "execution_count": 90,
   "id": "7ae2b6a9",
   "metadata": {},
   "outputs": [],
   "source": [
    "# Make sure we name the columns appropriately\n",
    "germany = A.T[0]\n",
    "denmark = A.T[1]\n",
    "belgium = A.T[2]\n",
    "bulgaria = A.T[3]"
   ]
  },
  {
   "cell_type": "code",
   "execution_count": 96,
   "id": "0b4db71a",
   "metadata": {},
   "outputs": [
    {
     "name": "stdout",
     "output_type": "stream",
     "text": [
      "DescribeResult(nobs=84, minmax=(828.0, 1145.0), mean=993.6071428571429, variance=10533.494406196214, skewness=0.28531236242730823, kurtosis=-1.2304104864747365)\n",
      "[ 918. 1064.]\n",
      "(0.8577620259588603, 2.0451989262022302e-25)\n",
      "SpearmanrResult(correlation=0.1955431754874652, pvalue=0.07465463221414939)\n"
     ]
    }
   ],
   "source": [
    "# Summary statistics with NumPy and SciPy functions\n",
    "print(stats.describe(bulgaria))\n",
    "\n",
    "print(np.percentile(bulgaria, (25, 75)))\n",
    "\n",
    "print(stats.pearsonr(germany, denmark))\n",
    "print(stats.spearmanr(germany, bulgaria))"
   ]
  },
  {
   "cell_type": "code",
   "execution_count": 97,
   "id": "40ebe26d",
   "metadata": {
    "slideshow": {
     "slide_type": "notes"
    }
   },
   "outputs": [
    {
     "name": "stdout",
     "output_type": "stream",
     "text": [
      "DescribeResult(nobs=84, minmax=(19442.0, 23201.0), mean=20481.321428571428, variance=1151825.64242685, skewness=1.59923245491272, kurtosis=1.309547186736916)\n",
      "DescribeResult(nobs=84, minmax=(1199.0, 1285.0), mean=1233.047619047619, variance=614.1663798049341, skewness=0.36482753768568393, kurtosis=-0.5897608901965672)\n",
      "\n",
      "5% and 95% percentiles:\n",
      "[19442. 22860.]\n",
      "\n",
      "Correlation coefficients for Germany/Denmark and Germany/Bulgaria:\n",
      "(0.8577620259588603, 2.0451989262022302e-25)\n",
      "SpearmanrResult(correlation=0.1955431754874652, pvalue=0.07465463221414939)\n"
     ]
    }
   ],
   "source": [
    "print(stats.describe(germany))\n",
    "print(stats.describe(denmark))\n",
    "\n",
    "# Find the 5% and 95% percentiles\n",
    "print('\\n5% and 95% percentiles:')\n",
    "print(np.percentile(germany, (5, 95)))\n",
    "\n",
    "# Find the Pearson's and Spearman's correlation coefficients\n",
    "# between two columns:\n",
    "print('\\nCorrelation coefficients for Germany/Denmark and Germany/Bulgaria:')\n",
    "print(stats.pearsonr(germany, denmark))\n",
    "print(stats.spearmanr(germany, bulgaria))\n",
    "\n",
    "# We can save out an array to a file using Numpy's\n",
    "# savetxt() function:\n",
    "np.savetxt('belgium.txt', belgium)"
   ]
  },
  {
   "cell_type": "code",
   "execution_count": 102,
   "id": "ef2bdbdb",
   "metadata": {
    "slideshow": {
     "slide_type": "subslide"
    }
   },
   "outputs": [
    {
     "name": "stdout",
     "output_type": "stream",
     "text": [
      "0.01980689793911252 827.3761758537465\n"
     ]
    },
    {
     "data": {
      "image/png": "[encoded data removed]",
      "text/plain": [
       "<Figure size 432x288 with 1 Axes>"
      ]
     },
     "metadata": {
      "needs_background": "light"
     },
     "output_type": "display_data"
    }
   ],
   "source": [
    "# Find a linear relation between the data from Germany and Denmark\n",
    "reg = stats.linregress(germany, denmark)\n",
    "print(reg.slope, reg.intercept)\n",
    "# denmark = slope * germany + intercept\n",
    "\n",
    "# Plot the line\n",
    "fig, ax = plt.subplots()\n",
    "ax.plot(germany, denmark, 'k.', label='Data points')\n",
    "ax.plot(germany, reg.slope * germany + reg.intercept, 'r-', label='Line of best fit')\n",
    "ax.set(xlabel='Germany', ylabel='Denmark')\n",
    "ax.legend()\n",
    "plt.show()"
   ]
  },
  {
   "cell_type": "code",
   "execution_count": null,
   "id": "2bad860f",
   "metadata": {
    "scrolled": false,
    "slideshow": {
     "slide_type": "notes"
    }
   },
   "outputs": [],
   "source": [
    "reg = stats.linregress(germany, denmark)\n",
    "print(reg)\n",
    "print(reg.slope, reg.intercept)\n",
    "\n",
    "# Plot the data and the line of best fit\n",
    "fig, ax = plt.subplots()\n",
    "ax.plot(germany, denmark, 'kx', label='Data points')\n",
    "ax.plot(germany, reg.slope * germany + reg.intercept, 'r-', label='Line of best fit')\n",
    "\n",
    "ax.set(xlabel='Germany', ylabel='Denmark')\n",
    "ax.legend()\n",
    "plt.show()"
   ]
  },
  {
   "cell_type": "code",
   "execution_count": null,
   "id": "8b7c5c2c",
   "metadata": {},
   "outputs": [],
   "source": []
  },
  {
   "cell_type": "code",
   "execution_count": null,
   "id": "a913c2c1",
   "metadata": {},
   "outputs": [],
   "source": []
  },
  {
   "cell_type": "markdown",
   "id": "b7018736",
   "metadata": {
    "slideshow": {
     "slide_type": "slide"
    }
   },
   "source": [
    "# Dealing with mixed data: pandas\n",
    "\n",
    "Pandas is a module which allows the construction of a **dataframe**, an object to store data that looks a little like a spreadsheet.\n",
    "\n",
    "The data contained in a dataframe does *not* have to be of the same type. \n",
    "\n",
    "### Useful links\n",
    "\n",
    "* [Pandas documentation](http://pandas.pydata.org/pandas-docs/stable/).\n",
    "* [A quick introduction to Pandas](http://pandas.pydata.org/pandas-docs/stable/10min.html)\n",
    "* There is a fantastic tutorial (also in Jupyter) [here](http://pandas.pydata.org/pandas-docs/stable/tutorials.html) (under Lessons for New Pandas Users). This is well worth working through a little if you want a longer introduction to the basic concepts in Pandas."
   ]
  },
  {
   "cell_type": "markdown",
   "id": "b0b91e1a",
   "metadata": {
    "slideshow": {
     "slide_type": "subslide"
    }
   },
   "source": [
    "# 🚩🚩🚩 Example 5\n",
    "\n",
    "Let's use pandas to read the same data file as the previous example."
   ]
  },
  {
   "cell_type": "code",
   "execution_count": 104,
   "id": "a70f15f9",
   "metadata": {},
   "outputs": [
    {
     "name": "stdout",
     "output_type": "stream",
     "text": [
      "   Year/month  Germany  Denmark  Belgium  Bulgaria\n",
      "0     2019M12    22860     1276     3571      1139\n",
      "1     2019M11    22860     1276     3571      1139\n",
      "2     2019M10    22860     1276     3571      1139\n",
      "3     2019M09    22860     1276     3571      1139\n",
      "4     2019M08    22860     1276     3571      1139\n",
      "..        ...      ...      ...      ...       ...\n",
      "79    2013M05    20050     1240     4318       918\n",
      "80    2013M04    20050     1240     4318       918\n",
      "81    2013M03    23201     1285     4417       828\n",
      "82    2013M02    23201     1285     4417       828\n",
      "83    2013M01    23201     1285     4417       828\n",
      "\n",
      "[84 rows x 5 columns]\n",
      "<class 'pandas.core.frame.DataFrame'>\n"
     ]
    }
   ],
   "source": [
    "import pandas as pd\n",
    "\n",
    "# Use the read_csv method to read the CSV file into a dataframe\n",
    "A = pd.read_csv('oil_reserve_data.csv')\n",
    "\n",
    "# Look at what the dataframe contains\n",
    "print(A)\n",
    "print(type(A))"
   ]
  },
  {
   "cell_type": "code",
   "execution_count": 105,
   "id": "d17bd491",
   "metadata": {
    "slideshow": {
     "slide_type": "subslide"
    }
   },
   "outputs": [
    {
     "name": "stdout",
     "output_type": "stream",
     "text": [
      "0     22860\n",
      "1     22860\n",
      "2     22860\n",
      "3     22860\n",
      "4     22860\n",
      "      ...  \n",
      "79    20050\n",
      "80    20050\n",
      "81    23201\n",
      "82    23201\n",
      "83    23201\n",
      "Name: Germany, Length: 84, dtype: int64\n"
     ]
    }
   ],
   "source": [
    "# Display the data for one country\n",
    "print(A['Germany'])\n"
   ]
  },
  {
   "cell_type": "code",
   "execution_count": 107,
   "id": "bce0aea9",
   "metadata": {
    "slideshow": {
     "slide_type": "notes"
    }
   },
   "outputs": [
    {
     "name": "stdout",
     "output_type": "stream",
     "text": [
      "<class 'pandas.core.frame.DataFrame'>\n",
      "RangeIndex: 84 entries, 0 to 83\n",
      "Data columns (total 6 columns):\n",
      " #   Column      Non-Null Count  Dtype         \n",
      "---  ------      --------------  -----         \n",
      " 0   Year/month  84 non-null     object        \n",
      " 1   Germany     84 non-null     int64         \n",
      " 2   Denmark     84 non-null     int64         \n",
      " 3   Belgium     84 non-null     int64         \n",
      " 4   Bulgaria    84 non-null     int64         \n",
      " 5   Month       84 non-null     datetime64[ns]\n",
      "dtypes: datetime64[ns](1), int64(4), object(1)\n",
      "memory usage: 4.1+ KB\n",
      "None\n"
     ]
    }
   ],
   "source": [
    "# Process the dates appropriately\n",
    "A['Month'] = pd.to_datetime(A['Year/month'], format='%YM%m')\n",
    "# print(A)\n",
    "print(A.info())"
   ]
  },
  {
   "cell_type": "code",
   "execution_count": 108,
   "id": "c4d0ffaa",
   "metadata": {
    "slideshow": {
     "slide_type": "notes"
    }
   },
   "outputs": [
    {
     "data": {
      "image/png": "[encoded data removed]",
      "text/plain": [
       "<Figure size 432x288 with 1 Axes>"
      ]
     },
     "metadata": {
      "needs_background": "light"
     },
     "output_type": "display_data"
    }
   ],
   "source": [
    "# Plot the data for Denmark and Bulgaria\n",
    "fig, ax = plt.subplots()\n",
    "ax.plot(A['Month'], A['Denmark'], 'gx', label='Denmark')\n",
    "ax.plot(A['Month'], A['Bulgaria'], 'r.', label='Bulgaria')\n",
    "\n",
    "ax.legend()\n",
    "plt.show()"
   ]
  },
  {
   "cell_type": "markdown",
   "id": "91f612c2",
   "metadata": {
    "slideshow": {
     "slide_type": "slide"
    }
   },
   "source": [
    "# Seaborn: visualising dataframes\n",
    "\n",
    "Seaborn is a library based on matplotlib, which provides very useful tools for various statistics and data visualisations.\n",
    "\n",
    "### Useful links\n",
    "\n",
    "- [Seaborn documentation page](https://seaborn.pydata.org/)\n",
    "- [Example gallery](https://seaborn.pydata.org/examples/index.html) demonstrating the types of visualisations you can do\n",
    "- [Introduction with plenty of examples](https://seaborn.pydata.org/introduction.html)\n",
    "- [Tutorial/user guide](https://seaborn.pydata.org/tutorial.html)"
   ]
  },
  {
   "cell_type": "markdown",
   "id": "087404c9",
   "metadata": {
    "slideshow": {
     "slide_type": "subslide"
    }
   },
   "source": [
    "# 🚩🚩🚩 Example 6"
   ]
  },
  {
   "cell_type": "code",
   "execution_count": 109,
   "id": "a6d1e5b6",
   "metadata": {},
   "outputs": [],
   "source": [
    "import seaborn as sns\n",
    "\n",
    "# Visualise possible correlations between countries\n"
   ]
  },
  {
   "cell_type": "code",
   "execution_count": 112,
   "id": "a1caad73",
   "metadata": {
    "slideshow": {
     "slide_type": "notes"
    }
   },
   "outputs": [
    {
     "data": {
      "image/png": "[encoded data removed]",
      "text/plain": [
       "<Figure size 720x720 with 16 Axes>"
      ]
     },
     "metadata": {
      "needs_background": "light"
     },
     "output_type": "display_data"
    }
   ],
   "source": [
    "grid = sns.PairGrid(A)\n",
    "grid.map(sns.regplot)\n",
    "plt.show()"
   ]
  },
  {
   "cell_type": "markdown",
   "id": "b1203857",
   "metadata": {
    "slideshow": {
     "slide_type": "slide"
    }
   },
   "source": [
    "# Edinburgh cycle hire data\n",
    "\n",
    "Until a few months ago (unfortunately!), Edinburgh had a bike hire scheme, where you could rent a bike from one station to another. The company which ran the scheme published anonymised data every month, containing all information about the bike trips people have made that month.\n",
    "\n",
    "All available data files (since the scheme started in September 2018) are available [here](https://edinburghcyclehire.com/open-data/historical), as well as a description of the data. It is published under the [Open Government License (OGL)](https://www.nationalarchives.gov.uk/doc/open-government-licence/version/3/)."
   ]
  },
  {
   "cell_type": "markdown",
   "id": "df391ba1",
   "metadata": {
    "slideshow": {
     "slide_type": "subslide"
    }
   },
   "source": [
    "Some questions we could investigate:\n",
    "\n",
    "- What is the average journey time and distance of bike trips on weekdays? What about weekends?\n",
    "- How many stations appear in the dataset? Which were the most common starting stations?\n",
    "- What was the most common time(s) of day for journeys to be undertaken?\n",
    "\n",
    "---\n",
    "\n",
    "Useful documentation:\n",
    "\n",
    "- [`pandas.to_datetime()`](https://pandas.pydata.org/docs/reference/api/pandas.to_datetime.html?highlight=to_datetime#pandas.to_datetime)\n",
    "- [The `.dt` accessor](https://pandas.pydata.org/docs/user_guide/basics.html#dt-accessor)\n",
    "- [Time and date components](https://pandas.pydata.org/docs/user_guide/timeseries.html#time-date-components)\n",
    "- Relational plots: [`sns.relplot()`](https://seaborn.pydata.org/generated/seaborn.relplot.html)\n",
    "- Categorical plots: [`sns.catplot()`](https://seaborn.pydata.org/generated/seaborn.catplot.html)\n",
    "- Distribution plots: [`sns.displot()`](https://seaborn.pydata.org/generated/seaborn.displot.html)"
   ]
  },
  {
   "cell_type": "markdown",
   "id": "0d9d1eed",
   "metadata": {
    "slideshow": {
     "slide_type": "subslide"
    }
   },
   "source": [
    "## Mean journey time on weekdays/weekends"
   ]
  },
  {
   "cell_type": "code",
   "execution_count": 113,
   "id": "0964cd15",
   "metadata": {},
   "outputs": [
    {
     "data": {
      "text/html": [
       "<div>\n",
       "<style scoped>\n",
       "    .dataframe tbody tr th:only-of-type {\n",
       "        vertical-align: middle;\n",
       "    }\n",
       "\n",
       "    .dataframe tbody tr th {\n",
       "        vertical-align: top;\n",
       "    }\n",
       "\n",
       "    .dataframe thead th {\n",
       "        text-align: right;\n",
       "    }\n",
       "</style>\n",
       "<table border=\"1\" class=\"dataframe\">\n",
       "  <thead>\n",
       "    <tr style=\"text-align: right;\">\n",
       "      <th></th>\n",
       "      <th>started_at</th>\n",
       "      <th>ended_at</th>\n",
       "      <th>duration</th>\n",
       "      <th>start_station_id</th>\n",
       "      <th>start_station_name</th>\n",
       "      <th>start_station_description</th>\n",
       "      <th>start_station_latitude</th>\n",
       "      <th>start_station_longitude</th>\n",
       "      <th>end_station_id</th>\n",
       "      <th>end_station_name</th>\n",
       "      <th>end_station_description</th>\n",
       "      <th>end_station_latitude</th>\n",
       "      <th>end_station_longitude</th>\n",
       "    </tr>\n",
       "  </thead>\n",
       "  <tbody>\n",
       "    <tr>\n",
       "      <th>0</th>\n",
       "      <td>2021-07-01 00:06:40.633000+00:00</td>\n",
       "      <td>2021-07-01 00:31:13.327000+00:00</td>\n",
       "      <td>1472</td>\n",
       "      <td>1102</td>\n",
       "      <td>Haymarket Station</td>\n",
       "      <td>Haymarket Station</td>\n",
       "      <td>55.945569</td>\n",
       "      <td>-3.218185</td>\n",
       "      <td>1729</td>\n",
       "      <td>McDonald Road</td>\n",
       "      <td>Next to Fire Station</td>\n",
       "      <td>55.964031</td>\n",
       "      <td>-3.185175</td>\n",
       "    </tr>\n",
       "    <tr>\n",
       "      <th>1</th>\n",
       "      <td>2021-07-01 00:09:05.813000+00:00</td>\n",
       "      <td>2021-07-01 00:18:37.419000+00:00</td>\n",
       "      <td>571</td>\n",
       "      <td>1052</td>\n",
       "      <td>Surgeons Hall</td>\n",
       "      <td>East side of Nicolson Street</td>\n",
       "      <td>55.946643</td>\n",
       "      <td>-3.185475</td>\n",
       "      <td>1749</td>\n",
       "      <td>Dean Street</td>\n",
       "      <td>Corner of Dean Park Mews</td>\n",
       "      <td>55.957278</td>\n",
       "      <td>-3.214285</td>\n",
       "    </tr>\n",
       "    <tr>\n",
       "      <th>2</th>\n",
       "      <td>2021-07-01 00:29:16.151000+00:00</td>\n",
       "      <td>2021-07-01 01:00:58.224000+00:00</td>\n",
       "      <td>1902</td>\n",
       "      <td>1039</td>\n",
       "      <td>Lothian Road</td>\n",
       "      <td>Outside the Usher Hall</td>\n",
       "      <td>55.947409</td>\n",
       "      <td>-3.205765</td>\n",
       "      <td>1824</td>\n",
       "      <td>Duke Street</td>\n",
       "      <td>Junction with Easter Road</td>\n",
       "      <td>55.969012</td>\n",
       "      <td>-3.167395</td>\n",
       "    </tr>\n",
       "    <tr>\n",
       "      <th>3</th>\n",
       "      <td>2021-07-01 00:36:00.185000+00:00</td>\n",
       "      <td>2021-07-01 01:04:08.705000+00:00</td>\n",
       "      <td>1688</td>\n",
       "      <td>1091</td>\n",
       "      <td>Holyrood Road</td>\n",
       "      <td>Opposite St Leonards Land</td>\n",
       "      <td>55.949560</td>\n",
       "      <td>-3.180413</td>\n",
       "      <td>1769</td>\n",
       "      <td>Brunswick Place</td>\n",
       "      <td>Corner of Elm Row/Brunswick Street</td>\n",
       "      <td>55.960852</td>\n",
       "      <td>-3.180986</td>\n",
       "    </tr>\n",
       "    <tr>\n",
       "      <th>4</th>\n",
       "      <td>2021-07-01 00:37:13.872000+00:00</td>\n",
       "      <td>2021-07-01 01:01:59.244000+00:00</td>\n",
       "      <td>1485</td>\n",
       "      <td>1721</td>\n",
       "      <td>Tollcross</td>\n",
       "      <td>Outside Piccolinos off Lauriston Place</td>\n",
       "      <td>55.944248</td>\n",
       "      <td>-3.203105</td>\n",
       "      <td>1824</td>\n",
       "      <td>Duke Street</td>\n",
       "      <td>Junction with Easter Road</td>\n",
       "      <td>55.969012</td>\n",
       "      <td>-3.167395</td>\n",
       "    </tr>\n",
       "  </tbody>\n",
       "</table>\n",
       "</div>"
      ],
      "text/plain": [
       "                         started_at                          ended_at  \\\n",
       "0  2021-07-01 00:06:40.633000+00:00  2021-07-01 00:31:13.327000+00:00   \n",
       "1  2021-07-01 00:09:05.813000+00:00  2021-07-01 00:18:37.419000+00:00   \n",
       "2  2021-07-01 00:29:16.151000+00:00  2021-07-01 01:00:58.224000+00:00   \n",
       "3  2021-07-01 00:36:00.185000+00:00  2021-07-01 01:04:08.705000+00:00   \n",
       "4  2021-07-01 00:37:13.872000+00:00  2021-07-01 01:01:59.244000+00:00   \n",
       "\n",
       "   duration  start_station_id start_station_name  \\\n",
       "0      1472              1102  Haymarket Station   \n",
       "1       571              1052      Surgeons Hall   \n",
       "2      1902              1039       Lothian Road   \n",
       "3      1688              1091      Holyrood Road   \n",
       "4      1485              1721          Tollcross   \n",
       "\n",
       "                start_station_description  start_station_latitude  \\\n",
       "0                       Haymarket Station               55.945569   \n",
       "1            East side of Nicolson Street               55.946643   \n",
       "2                  Outside the Usher Hall               55.947409   \n",
       "3               Opposite St Leonards Land               55.949560   \n",
       "4  Outside Piccolinos off Lauriston Place               55.944248   \n",
       "\n",
       "   start_station_longitude  end_station_id end_station_name  \\\n",
       "0                -3.218185            1729    McDonald Road   \n",
       "1                -3.185475            1749      Dean Street   \n",
       "2                -3.205765            1824      Duke Street   \n",
       "3                -3.180413            1769  Brunswick Place   \n",
       "4                -3.203105            1824      Duke Street   \n",
       "\n",
       "              end_station_description  end_station_latitude  \\\n",
       "0                Next to Fire Station             55.964031   \n",
       "1            Corner of Dean Park Mews             55.957278   \n",
       "2           Junction with Easter Road             55.969012   \n",
       "3  Corner of Elm Row/Brunswick Street             55.960852   \n",
       "4           Junction with Easter Road             55.969012   \n",
       "\n",
       "   end_station_longitude  \n",
       "0              -3.185175  \n",
       "1              -3.214285  \n",
       "2              -3.167395  \n",
       "3              -3.180986  \n",
       "4              -3.167395  "
      ]
     },
     "execution_count": 113,
     "metadata": {},
     "output_type": "execute_result"
    }
   ],
   "source": [
    "trips = pd.read_csv('07.csv')\n",
    "trips.head()"
   ]
  },
  {
   "cell_type": "code",
   "execution_count": 121,
   "id": "2877549b",
   "metadata": {},
   "outputs": [
    {
     "data": {
      "text/plain": [
       "<seaborn.axisgrid.FacetGrid at 0x7fd3d2a49e20>"
      ]
     },
     "execution_count": 121,
     "metadata": {},
     "output_type": "execute_result"
    },
    {
     "data": {
      "image/png": "[encoded data removed]",
      "text/plain": [
       "<Figure size 360x360 with 1 Axes>"
      ]
     },
     "metadata": {
      "needs_background": "light"
     },
     "output_type": "display_data"
    }
   ],
   "source": [
    "# trips.info()\n",
    "trips['started_at'] = pd.to_datetime(trips['started_at'])\n",
    "trips['ended_at'] = pd.to_datetime(trips['ended_at'])\n",
    "\n",
    "trips['day_of_week'] = trips['started_at'].dt.dayofweek\n",
    "\n",
    "# Weekdays/weekends\n",
    "from numpy import median\n",
    "\n",
    "sns.catplot(data=trips,\n",
    "            x='day_of_week',\n",
    "            y='duration',\n",
    "            kind='bar',\n",
    "            estimator=median)"
   ]
  },
  {
   "cell_type": "markdown",
   "id": "07ecfeb1",
   "metadata": {
    "slideshow": {
     "slide_type": "subslide"
    }
   },
   "source": [
    "## Most common starting stations"
   ]
  },
  {
   "cell_type": "code",
   "execution_count": null,
   "id": "26edf023",
   "metadata": {},
   "outputs": [],
   "source": []
  },
  {
   "cell_type": "code",
   "execution_count": null,
   "id": "cf45fb04",
   "metadata": {},
   "outputs": [],
   "source": []
  }
 ],
 "metadata": {
  "celltoolbar": "Slideshow",
  "kernelspec": {
   "display_name": "Python 3 (ipykernel)",
   "language": "python",
   "name": "python3"
  },
  "language_info": {
   "codemirror_mode": {
    "name": "ipython",
    "version": 3
   },
   "file_extension": ".py",
   "mimetype": "text/x-python",
   "name": "python",
   "nbconvert_exporter": "python",
   "pygments_lexer": "ipython3",
   "version": "3.8.12"
  }
 },
 "nbformat": 4,
 "nbformat_minor": 5
}
