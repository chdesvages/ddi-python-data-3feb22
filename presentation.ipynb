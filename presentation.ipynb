{
 "cells": [
  {
   "cell_type": "markdown",
   "id": "51a1d330",
   "metadata": {
    "slideshow": {
     "slide_type": "slide"
    }
   },
   "source": [
    "# Python for data manipulation - DDI session - 3 Feb 2022\n",
    "\n",
    "Charlotte Desvages"
   ]
  },
  {
   "cell_type": "markdown",
   "id": "6802f0f4",
   "metadata": {
    "slideshow": {
     "slide_type": "slide"
    }
   },
   "source": [
    "## Welcome!\n",
    "\n",
    "Today I'll present an overview of some of the most widely used Python libraries for data manipulation and visualisation."
   ]
  },
  {
   "cell_type": "markdown",
   "id": "13bee986",
   "metadata": {
    "slideshow": {
     "slide_type": "notes"
    }
   },
   "source": [
    "These are huge libraries with a lot of functionality -- the goal for today won't be to teach you everything about them!\n",
    "\n",
    "Instead, we'll work through some examples, to illustrate and give you a flavour of the kind of problems that each of them can help with."
   ]
  },
  {
   "cell_type": "markdown",
   "id": "58303486",
   "metadata": {
    "slideshow": {
     "slide_type": "fragment"
    }
   },
   "source": [
    "We will work through **interactive code examples** to demonstrate some of the functionalities of each library.\n",
    "\n",
    "You will be able to play with the code yourselves, using a cloud service called Binder -- no need to install anything!"
   ]
  },
  {
   "cell_type": "markdown",
   "id": "f89be13a",
   "metadata": {
    "slideshow": {
     "slide_type": "subslide"
    }
   },
   "source": [
    "## Teams communication\n",
    "\n",
    "At the top of Teams, use the [**Reactions** menu](https://support.microsoft.com/en-us/office/express-yourself-in-teams-meetings-with-live-reactions-a8323a40-3d07-4129-934b-305370a36e21#ID0EFD=Desktop).\n",
    "\n",
    "You can also use the **chat** to ask questions."
   ]
  },
  {
   "cell_type": "markdown",
   "id": "c6780ddc",
   "metadata": {
    "slideshow": {
     "slide_type": "subslide"
    }
   },
   "source": [
    "### How do I code along?\n",
    "\n",
    "## [bit.ly/ddi-python-3feb22](https://bit.ly/ddi-python-3feb22)\n",
    "\n",
    "Then, click on the \"**launch binder**\" button. You should then see the content of these slides. This is a **Jupyter notebook** -- a Python programming environment that runs in your browser. Wait until it loads completely (~1min), then:\n",
    "- scroll down until you see the flags 🚩🚩🚩. Then, click on the **Python code cell** just below. You should see a green frame appearing around it.\n",
    "- Click the <kbd>▶</kbd> button in the toolbar at the top (or press <kbd>Ctrl</kbd> + <kbd>Enter</kbd> on your keyboard). This will **run** the code inside the cell, and you will see the result below.\n",
    "\n",
    "# 🚩🚩🚩 Example 1"
   ]
  },
  {
   "cell_type": "code",
   "execution_count": null,
   "id": "c5aadf55",
   "metadata": {},
   "outputs": [],
   "source": [
    "import numpy as np\n",
    "print(f'NumPy (version {np.__version__}) imported successfully!')"
   ]
  },
  {
   "cell_type": "code",
   "execution_count": null,
   "id": "951b412d",
   "metadata": {
    "slideshow": {
     "slide_type": "subslide"
    }
   },
   "outputs": [],
   "source": [
    "import numpy as np\n",
    "print(f'NumPy (version {np.__version__}) imported successfully!')"
   ]
  },
  {
   "cell_type": "markdown",
   "id": "b062e3d3",
   "metadata": {},
   "source": [
    "When you've run the code, `NumPy (version 1.22.1) imported successfully!` should appear **below** the code cell. If that's the case, come back on Teams and give a *thumbs up*. **Don't close your browser tab or you'll lose your progress!**\n",
    "\n",
    "You can follow the presentation on the Teams meeting. When there are code examples you can run and change yourself, they will be flagged with 🚩🚩🚩 if you want to jump back into your notebook."
   ]
  },
  {
   "cell_type": "markdown",
   "id": "f2d184de",
   "metadata": {
    "slideshow": {
     "slide_type": "subslide"
    }
   },
   "source": [
    "## Prerequisites\n",
    "\n",
    "Some familiarity with Python will be assumed, but the session should also be accessible to those familiar with programming fundamentals more generally -- even in another language.\n",
    "\n",
    "If at any point I'm going too fast, or you'd like me to explain a particular point or command in more detail, **please do say so in the chat!**"
   ]
  },
  {
   "cell_type": "markdown",
   "id": "98022e58",
   "metadata": {
    "slideshow": {
     "slide_type": "slide"
    }
   },
   "source": [
    "## Our toolbox\n",
    "\n",
    "Today we'll use **5 Python libraries**:\n",
    "\n",
    "- **NumPy** and **SciPy**, for general scientific computing using NumPy *arrays*,\n",
    "- **matplotlib**, to create highly customisable plots,\n",
    "- **pandas**, to work with datasets and manipulate data stored in *dataframes*,\n",
    "- **seaborn**, to generate plots and data visualisations easily from pandas dataframes."
   ]
  },
  {
   "cell_type": "markdown",
   "id": "443b8636",
   "metadata": {
    "slideshow": {
     "slide_type": "slide"
    }
   },
   "source": [
    "# NumPy (*Numerical Python*)\n",
    "\n",
    "**NumPy** is an *essential* library for scientific computing. (In fact, SciPy, pandas, and many other libraries are built on top of it!)\n",
    "\n",
    "#### Useful links\n",
    "\n",
    "- [What is NumPy?](https://numpy.org/doc/stable/user/whatisnumpy.html#whatisnumpy)\n",
    "- [NumPy: the absolute basics for beginners](https://numpy.org/doc/stable/user/absolute_beginners.html)"
   ]
  },
  {
   "cell_type": "code",
   "execution_count": null,
   "id": "1aad97fe",
   "metadata": {},
   "outputs": [],
   "source": [
    "import numpy as np"
   ]
  },
  {
   "cell_type": "markdown",
   "id": "c9d57fdf",
   "metadata": {
    "slideshow": {
     "slide_type": "subslide"
    }
   },
   "source": [
    "## NumPy features\n",
    "\n",
    "NumPy is built around the **`ndarray` type** (stands for \"N-dimensional array\"). NumPy arrays are *containers*, like lists, which allow us to store and handle vectors and matrices efficiently."
   ]
  },
  {
   "cell_type": "code",
   "execution_count": null,
   "id": "ae8a0dbf",
   "metadata": {
    "slideshow": {
     "slide_type": "-"
    }
   },
   "outputs": [],
   "source": []
  },
  {
   "cell_type": "markdown",
   "id": "12161af2",
   "metadata": {
    "slideshow": {
     "slide_type": "notes"
    }
   },
   "source": [
    "```py\n",
    "# Create a vector\n",
    "v = np.array([3, 4, -2.8, 0])\n",
    "print(v)\n",
    "print(type(v))\n",
    "\n",
    "# Create a matrix: pass a list of lists to np.array(),\n",
    "# each element of which is a row of the matrix\n",
    "id_4 = np.array([[1, 0, 0, 0],\n",
    "                 [0, 1, 0, 0],\n",
    "                 [0, 0, 1, 0],\n",
    "                 [0, 0, 0, 1]])\n",
    "print(id_4)\n",
    "```"
   ]
  },
  {
   "cell_type": "markdown",
   "id": "2d4fcc23",
   "metadata": {
    "slideshow": {
     "slide_type": "subslide"
    }
   },
   "source": [
    "NumPy also provides convenience functions to construct arrays with particular properties."
   ]
  },
  {
   "cell_type": "code",
   "execution_count": null,
   "id": "590a8ac6",
   "metadata": {},
   "outputs": [],
   "source": []
  },
  {
   "cell_type": "markdown",
   "id": "5a4d6a09",
   "metadata": {
    "slideshow": {
     "slide_type": "notes"
    }
   },
   "source": [
    "```py\n",
    "np.zeros()\n",
    "np.ones()\n",
    "np.eye()\n",
    "np.random.random()\n",
    "np.arange()\n",
    "```"
   ]
  },
  {
   "cell_type": "markdown",
   "id": "32cafae2",
   "metadata": {
    "slideshow": {
     "slide_type": "subslide"
    }
   },
   "source": [
    "## Array operations\n",
    "\n",
    "Using NumPy arrays allows to perform operations on (and between) many numbers at once, *efficiently*."
   ]
  },
  {
   "cell_type": "code",
   "execution_count": null,
   "id": "36595eec",
   "metadata": {},
   "outputs": [],
   "source": [
    "# Generate an array of random integers between 1 and 10\n",
    "y = np.random.randint(1, 11, size=5)\n",
    "print(y)\n",
    "\n"
   ]
  },
  {
   "cell_type": "markdown",
   "id": "54036d88",
   "metadata": {
    "slideshow": {
     "slide_type": "notes"
    }
   },
   "source": [
    "```py\n",
    "x = np.linspace(1, 5, 5, dtype=int)\n",
    "print(y)\n",
    "print(x)\n",
    "\n",
    "print(x + y)\n",
    "print(x * y)\n",
    "print(x**2)\n",
    "\n",
    "print(y > 5)\n",
    "print(y[y > 5])\n",
    "```\n",
    "\n",
    "Note that matrix multiplication is also possible!\n",
    "\n",
    "We'll come back to NumPy throughout the session."
   ]
  },
  {
   "cell_type": "markdown",
   "id": "2b3ab5a0",
   "metadata": {
    "slideshow": {
     "slide_type": "slide"
    }
   },
   "source": [
    "# Plotting data with matplotlib\n",
    "\n",
    "The **matplotlib** library (and its **pyplot** interface) contain a very large number of built-in functions for creating figures and plots.\n",
    "\n",
    "### Useful links\n",
    "\n",
    "* [Matplotlib: Python plotting](https://matplotlib.org/contents.html) - Matplotlib documentation\n",
    "* [Matplotlib gallery](https://matplotlib.org/gallery/index.html)\n",
    "* [Pyplot tutorial](https://matplotlib.org/tutorials/introductory/pyplot.html) - Matplotlib documentation"
   ]
  },
  {
   "cell_type": "code",
   "execution_count": null,
   "id": "dc0e488f",
   "metadata": {},
   "outputs": [],
   "source": [
    "import matplotlib.pyplot as plt"
   ]
  },
  {
   "cell_type": "markdown",
   "id": "1c861316",
   "metadata": {
    "slideshow": {
     "slide_type": "subslide"
    }
   },
   "source": [
    "# 🚩🚩🚩 Example 2"
   ]
  },
  {
   "cell_type": "code",
   "execution_count": null,
   "id": "3e21238f",
   "metadata": {},
   "outputs": [],
   "source": [
    "# Create an x-axis with 100 points\n",
    "x = np.linspace(-4*np.pi, 4*np.pi, 100)\n",
    "\n",
    "# Evaluate the function at all these points\n",
    "y = x * np.sin(x)\n",
    "\n",
    "# Create the plot and display it\n",
    "plt.plot(x, y, 'kx')\n",
    "plt.show()"
   ]
  },
  {
   "cell_type": "markdown",
   "id": "56b697f0",
   "metadata": {
    "slideshow": {
     "slide_type": "subslide"
    }
   },
   "source": [
    "## Multiple plots"
   ]
  },
  {
   "cell_type": "code",
   "execution_count": null,
   "id": "9f094ed9",
   "metadata": {},
   "outputs": [],
   "source": [
    "# Create a grid of plots with 1 row, 3 columns\n",
    "fig, ax = plt.subplots(1, 3)\n",
    "\n",
    "# Create an x-axis of 50 points between 0 and 2\n",
    "x = np.linspace(0, 2, 50)\n",
    "\n",
    "# Plot 3 different functions\n"
   ]
  },
  {
   "cell_type": "markdown",
   "id": "27a893c0",
   "metadata": {
    "slideshow": {
     "slide_type": "notes"
    }
   },
   "source": [
    "```py\n",
    "# Create a grid of plots with 1 row, 3 columns\n",
    "fig, ax = plt.subplots(1, 3, figsize=(12, 4))\n",
    "\n",
    "# Create an x-axis of 50 points between 0 and 2\n",
    "x = np.linspace(0, 2, 50)\n",
    "\n",
    "# Plot 3 different functions\n",
    "ax[0].plot(x, np.tan(x - 2), 'c-')\n",
    "ax[1].plot(x, np.exp(x), 'g--')\n",
    "ax[2].plot(x, np.sin(x) * np.cos(2*x), 'ro')\n",
    "plt.show()\n",
    "```\n",
    "\n",
    "See [Parts of a figure](https://matplotlib.org/stable/tutorials/introductory/usage.html#parts-of-a-figure) - Matplotlib documentation\n",
    "\n",
    "Try a 2D grid!"
   ]
  },
  {
   "cell_type": "markdown",
   "id": "58f0bd05",
   "metadata": {
    "slideshow": {
     "slide_type": "slide"
    }
   },
   "source": [
    "# SciPy\n",
    "\n",
    "The **SciPy** library provides a set of scientific computing tools for Python -- [it is actually a relative of Numpy](https://www.scipy.org/scipylib/faq.html#numpy-vs-scipy-vs-other-packages).\n",
    "\n",
    "It's not possible to cover *everything* SciPy can do today, so we'll look at some examples.\n",
    "\n",
    "### Useful links\n",
    "\n",
    "* [SciPy documentation](https://docs.scipy.org/doc/scipy/reference/)\n",
    "* [SciPy tutorial - Introduction](https://docs.scipy.org/doc/scipy/reference/tutorial/general.html)\n",
    "* [Frequently asked questions - SciPy documentation](https://www.scipy.org/scipylib/faq.html#frequently-asked-questions)"
   ]
  },
  {
   "cell_type": "markdown",
   "id": "5c891098",
   "metadata": {
    "slideshow": {
     "slide_type": "subslide"
    }
   },
   "source": [
    "# 🚩🚩🚩 Example 3: interpolating some noisy data"
   ]
  },
  {
   "cell_type": "code",
   "execution_count": null,
   "id": "b2b4bf1c",
   "metadata": {},
   "outputs": [],
   "source": [
    "from scipy.interpolate import interp1d, UnivariateSpline"
   ]
  },
  {
   "cell_type": "markdown",
   "id": "f5b0bcaa",
   "metadata": {
    "slideshow": {
     "slide_type": "fragment"
    }
   },
   "source": [
    "Let's generate some simulated data for this example."
   ]
  },
  {
   "cell_type": "code",
   "execution_count": null,
   "id": "d0b15204",
   "metadata": {},
   "outputs": [],
   "source": [
    "# Generate simulated data: a sinusoid with some added noise\n",
    "x = np.linspace(0, 10, 30)\n",
    "noise = np.random.normal(0, 0.3, len(x))\n",
    "y = np.sin(x) + noise\n",
    "\n",
    "# Plot the data points\n"
   ]
  },
  {
   "cell_type": "code",
   "execution_count": null,
   "id": "8bcb4098",
   "metadata": {
    "slideshow": {
     "slide_type": "notes"
    }
   },
   "outputs": [],
   "source": [
    "%matplotlib notebook\n",
    "fig, ax = plt.subplots()\n",
    "ax.plot(x, y, 'k.', label='Noisy data')\n",
    "\n",
    "ax.legend()\n",
    "plt.show()"
   ]
  },
  {
   "cell_type": "code",
   "execution_count": null,
   "id": "c52e5ea9",
   "metadata": {
    "slideshow": {
     "slide_type": "subslide"
    }
   },
   "outputs": [],
   "source": [
    "# Create an interpolating function going through all the datapoints\n",
    "f_interp = interp1d(x, y, kind='cubic')\n",
    "\n",
    "# Fit a spline using a different function, which takes a smoothing parameter\n",
    "f_smooth = UnivariateSpline(x, y, s=4)\n",
    "\n",
    "# We can use these functions to get interpolated values for y\n",
    "# at a point in between our x values\n",
    "print(f_interp(1.5))\n",
    "print(f_smooth(1.5))"
   ]
  },
  {
   "cell_type": "code",
   "execution_count": null,
   "id": "3b4c0c88",
   "metadata": {
    "slideshow": {
     "slide_type": "subslide"
    }
   },
   "outputs": [],
   "source": [
    "# Plot these splines on top of the data points\n"
   ]
  },
  {
   "cell_type": "markdown",
   "id": "9ee5274c",
   "metadata": {
    "slideshow": {
     "slide_type": "notes"
    }
   },
   "source": [
    "```py\n",
    "# First, we need a denser x-axis, so the plots look smoother!\n",
    "x_dense = np.linspace(0, 10, 1000)\n",
    "\n",
    "# Use the previous functions, evaluate them at each point in x_dense\n",
    "ax.plot(x_dense, f_interp(x_dense), 'c--', label='Interpolating spline')\n",
    "ax.plot(x_dense, f_smooth(x_dense), 'r-.', label='Smooth spline')\n",
    "\n",
    "ax.legend()\n",
    "plt.show()\n",
    "```\n",
    "\n",
    "- Change noise variance and observe the results.\n",
    "- Change the smoothing parameter `s` and observe the results."
   ]
  },
  {
   "cell_type": "markdown",
   "id": "c0bb0acf",
   "metadata": {
    "slideshow": {
     "slide_type": "subslide"
    }
   },
   "source": [
    "# 🚩🚩🚩 Example 4: Summary statistics\n",
    "\n",
    "Let's continue with NumPy, SciPy, and matplotlib for now.\n",
    "\n",
    "The file `oil_reserve_data.csv` in your binder is a slightly edited version of one that comes from [this EU data source](http://data.europa.eu/euodp/en/data/dataset/RH8xH4aVauYKO92JJxv8sA). It describes the emergency oil reserves kept by several European countries over recent years."
   ]
  },
  {
   "cell_type": "code",
   "execution_count": null,
   "id": "12fe3e11",
   "metadata": {},
   "outputs": [],
   "source": [
    "import numpy as np\n",
    "from scipy import stats"
   ]
  },
  {
   "cell_type": "code",
   "execution_count": null,
   "id": "153c3f85",
   "metadata": {
    "slideshow": {
     "slide_type": "subslide"
    }
   },
   "outputs": [],
   "source": [
    "# # Use Numpy's loadtxt function to open the data file:\n",
    "A = np.loadtxt('oil_reserve_data.csv',\n",
    "                  dtype=float,\n",
    "                  delimiter=',',\n",
    "                  skiprows=1,\n",
    "                  usecols=(1, 2, 3, 4))"
   ]
  },
  {
   "cell_type": "code",
   "execution_count": null,
   "id": "7ae2b6a9",
   "metadata": {},
   "outputs": [],
   "source": [
    "# Make sure we name the columns appropriately\n",
    "germany = A.T[0]\n",
    "denmark = A.T[1]\n",
    "belgium = A.T[2]\n",
    "bulgaria = A.T[3]"
   ]
  },
  {
   "cell_type": "code",
   "execution_count": null,
   "id": "0b4db71a",
   "metadata": {},
   "outputs": [],
   "source": [
    "# Summary statistics with NumPy and SciPy functions\n"
   ]
  },
  {
   "cell_type": "code",
   "execution_count": null,
   "id": "40ebe26d",
   "metadata": {
    "slideshow": {
     "slide_type": "notes"
    }
   },
   "outputs": [],
   "source": [
    "print(stats.describe(germany))\n",
    "print(stats.describe(denmark))\n",
    "\n",
    "# Find the 5% and 95% percentiles\n",
    "print('\\n5% and 95% percentiles:')\n",
    "print(np.percentile(germany, (5, 95)))\n",
    "\n",
    "# Find the Pearson's and Spearman's correlation coefficients\n",
    "# between two columns:\n",
    "print('\\nCorrelation coefficients for Germany/Denmark and Germany/Bulgaria:')\n",
    "print(stats.pearsonr(germany, denmark))\n",
    "print(stats.spearmanr(germany, bulgaria))\n",
    "\n",
    "# We can save out an array to a file using Numpy's\n",
    "# savetxt() function:\n",
    "np.savetxt('belgium.txt', belgium)"
   ]
  },
  {
   "cell_type": "code",
   "execution_count": null,
   "id": "ef2bdbdb",
   "metadata": {
    "slideshow": {
     "slide_type": "subslide"
    }
   },
   "outputs": [],
   "source": [
    "# Find a linear relation between the data from Germany and Denmark\n"
   ]
  },
  {
   "cell_type": "code",
   "execution_count": null,
   "id": "2bad860f",
   "metadata": {
    "scrolled": false,
    "slideshow": {
     "slide_type": "notes"
    }
   },
   "outputs": [],
   "source": [
    "reg = stats.linregress(germany, denmark)\n",
    "print(reg)\n",
    "print(reg.slope, reg.intercept)\n",
    "\n",
    "# Plot the data and the line of best fit\n",
    "fig, ax = plt.subplots()\n",
    "ax.plot(germany, denmark, 'kx', label='Data points')\n",
    "ax.plot(germany, reg.slope * germany + reg.intercept, 'r-', label='Line of best fit')\n",
    "\n",
    "ax.set(xlabel='Germany', ylabel='Denmark')\n",
    "ax.legend()\n",
    "plt.show()"
   ]
  },
  {
   "cell_type": "code",
   "execution_count": null,
   "id": "8b7c5c2c",
   "metadata": {},
   "outputs": [],
   "source": []
  },
  {
   "cell_type": "code",
   "execution_count": null,
   "id": "a913c2c1",
   "metadata": {},
   "outputs": [],
   "source": []
  },
  {
   "cell_type": "markdown",
   "id": "b7018736",
   "metadata": {
    "slideshow": {
     "slide_type": "slide"
    }
   },
   "source": [
    "# Dealing with mixed data: pandas\n",
    "\n",
    "Pandas is a module which allows the construction of a **dataframe**, an object to store data that looks a little like a spreadsheet.\n",
    "\n",
    "The data contained in a dataframe does *not* have to be of the same type. \n",
    "\n",
    "### Useful links\n",
    "\n",
    "* [Pandas documentation](http://pandas.pydata.org/pandas-docs/stable/).\n",
    "* [A quick introduction to Pandas](http://pandas.pydata.org/pandas-docs/stable/10min.html)\n",
    "* There is a fantastic tutorial (also in Jupyter) [here](http://pandas.pydata.org/pandas-docs/stable/tutorials.html) (under Lessons for New Pandas Users). This is well worth working through a little if you want a longer introduction to the basic concepts in Pandas."
   ]
  },
  {
   "cell_type": "markdown",
   "id": "b0b91e1a",
   "metadata": {
    "slideshow": {
     "slide_type": "subslide"
    }
   },
   "source": [
    "# 🚩🚩🚩 Example 5\n",
    "\n",
    "Let's use pandas to read the same data file as the previous example."
   ]
  },
  {
   "cell_type": "code",
   "execution_count": null,
   "id": "a70f15f9",
   "metadata": {},
   "outputs": [],
   "source": [
    "import pandas as pd\n",
    "\n",
    "# Use the read_csv method to read the CSV file into a dataframe\n",
    "A = pd.read_csv('oil_reserve_data.csv')\n",
    "\n",
    "# Look at what the dataframe contains\n",
    "print(A)"
   ]
  },
  {
   "cell_type": "code",
   "execution_count": null,
   "id": "d17bd491",
   "metadata": {
    "slideshow": {
     "slide_type": "subslide"
    }
   },
   "outputs": [],
   "source": [
    "# Display the data for one country\n"
   ]
  },
  {
   "cell_type": "code",
   "execution_count": null,
   "id": "c4d0ffaa",
   "metadata": {
    "slideshow": {
     "slide_type": "notes"
    }
   },
   "outputs": [],
   "source": [
    "print(A['Germany'])\n",
    "\n",
    "# Process the dates appropriately\n",
    "A['Month'] = pd.to_datetime(A['Year/month'], format='%YM%m')\n",
    "print(A)\n",
    "\n",
    "# Plot the data for Denmark and Bulgaria\n",
    "fig, ax = plt.subplots()\n",
    "ax.plot(A['Month'], A['Denmark'], 'gx', label='Denmark')\n",
    "ax.plot(A['Month'], A['Bulgaria'], 'r.', label='Bulgaria')\n",
    "\n",
    "ax.legend()\n",
    "plt.show()"
   ]
  },
  {
   "cell_type": "markdown",
   "id": "91f612c2",
   "metadata": {
    "slideshow": {
     "slide_type": "slide"
    }
   },
   "source": [
    "# Seaborn: visualising dataframes\n",
    "\n",
    "Seaborn is a library based on matplotlib, which provides very useful tools for various statistics and data visualisations.\n",
    "\n",
    "### Useful links\n",
    "\n",
    "- [Seaborn documentation page](https://seaborn.pydata.org/)\n",
    "- [Example gallery](https://seaborn.pydata.org/examples/index.html) demonstrating the types of visualisations you can do\n",
    "- [Introduction with plenty of examples](https://seaborn.pydata.org/introduction.html)\n",
    "- [Tutorial/user guide](https://seaborn.pydata.org/tutorial.html)"
   ]
  },
  {
   "cell_type": "markdown",
   "id": "087404c9",
   "metadata": {
    "slideshow": {
     "slide_type": "subslide"
    }
   },
   "source": [
    "# 🚩🚩🚩 Example 6"
   ]
  },
  {
   "cell_type": "code",
   "execution_count": null,
   "id": "a6d1e5b6",
   "metadata": {},
   "outputs": [],
   "source": [
    "import seaborn as sns\n",
    "\n",
    "# Visualise possible correlations between countries\n"
   ]
  },
  {
   "cell_type": "code",
   "execution_count": null,
   "id": "a1caad73",
   "metadata": {
    "slideshow": {
     "slide_type": "notes"
    }
   },
   "outputs": [],
   "source": [
    "grid = sns.PairGrid(A)\n",
    "grid.map(sns.regplot)\n",
    "plt.show()"
   ]
  },
  {
   "cell_type": "markdown",
   "id": "b1203857",
   "metadata": {
    "slideshow": {
     "slide_type": "slide"
    }
   },
   "source": [
    "# Edinburgh cycle hire data\n",
    "\n",
    "Until a few months ago (unfortunately!), Edinburgh had a bike hire scheme, where you could rent a bike from one station to another. The company which ran the scheme published anonymised data every month, containing all information about the bike trips people have made that month.\n",
    "\n",
    "All available data files (since the scheme started in September 2018) are available [here](https://edinburghcyclehire.com/open-data/historical), as well as a description of the data. It is published under the [Open Government License (OGL)](https://www.nationalarchives.gov.uk/doc/open-government-licence/version/3/)."
   ]
  },
  {
   "cell_type": "markdown",
   "id": "df391ba1",
   "metadata": {
    "slideshow": {
     "slide_type": "subslide"
    }
   },
   "source": [
    "Some questions we could investigate:\n",
    "\n",
    "- What is the average journey time and distance of bike trips on weekdays? What about weekends?\n",
    "- How many stations appear in the dataset? Which were the most common starting stations?\n",
    "- What was the most common time(s) of day for journeys to be undertaken?\n",
    "\n",
    "---\n",
    "\n",
    "Useful documentation:\n",
    "\n",
    "- [`pandas.to_datetime()`](https://pandas.pydata.org/docs/reference/api/pandas.to_datetime.html?highlight=to_datetime#pandas.to_datetime)\n",
    "- [The `.dt` accessor](https://pandas.pydata.org/docs/user_guide/basics.html#dt-accessor)\n",
    "- [Time and date components](https://pandas.pydata.org/docs/user_guide/timeseries.html#time-date-components)\n",
    "- Relational plots: [`sns.relplot()`](https://seaborn.pydata.org/generated/seaborn.relplot.html)\n",
    "- Categorical plots: [`sns.catplot()`](https://seaborn.pydata.org/generated/seaborn.catplot.html)\n",
    "- Distribution plots: [`sns.displot()`](https://seaborn.pydata.org/generated/seaborn.displot.html)"
   ]
  },
  {
   "cell_type": "markdown",
   "id": "0d9d1eed",
   "metadata": {
    "slideshow": {
     "slide_type": "subslide"
    }
   },
   "source": [
    "## Mean journey time on weekdays/weekends"
   ]
  },
  {
   "cell_type": "code",
   "execution_count": null,
   "id": "0964cd15",
   "metadata": {},
   "outputs": [],
   "source": []
  },
  {
   "cell_type": "markdown",
   "id": "07ecfeb1",
   "metadata": {
    "slideshow": {
     "slide_type": "subslide"
    }
   },
   "source": [
    "## Most common starting stations"
   ]
  },
  {
   "cell_type": "code",
   "execution_count": null,
   "id": "26edf023",
   "metadata": {},
   "outputs": [],
   "source": []
  },
  {
   "cell_type": "code",
   "execution_count": null,
   "id": "cf45fb04",
   "metadata": {},
   "outputs": [],
   "source": []
  }
 ],
 "metadata": {
  "celltoolbar": "Slideshow",
  "kernelspec": {
   "display_name": "Python 3 (ipykernel)",
   "language": "python",
   "name": "python3"
  },
  "language_info": {
   "codemirror_mode": {
    "name": "ipython",
    "version": 3
   },
   "file_extension": ".py",
   "mimetype": "text/x-python",
   "name": "python",
   "nbconvert_exporter": "python",
   "pygments_lexer": "ipython3",
   "version": "3.8.12"
  }
 },
 "nbformat": 4,
 "nbformat_minor": 5
}
